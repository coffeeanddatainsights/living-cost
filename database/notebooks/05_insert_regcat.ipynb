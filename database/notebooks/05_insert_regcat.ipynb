{
 "cells": [
  {
   "cell_type": "code",
   "execution_count": 1,
   "id": "ee4c028b-6bf8-4797-a036-6787d35bc513",
   "metadata": {},
   "outputs": [
    {
     "name": "stdout",
     "output_type": "stream",
     "text": [
      "                     descat\n",
      "0  Apartments / Real Estate\n",
      "1                 Utilities\n",
      "2                 Transport\n",
      "3                      Food\n",
      "4                   Leisure\n",
      "✅ Loaded 6 categories from C:\\Users\\Matteo\\progetti\\real-estate\\data_extraction\\docs\\sql\\categories.csv\n"
     ]
    }
   ],
   "source": [
    "# Import utility.py and db_utility\n",
    "import scripts.utils as ut\n",
    "from scripts.db_utils import get_db_engine, open_connection, close_connection, get_table_count\n",
    "from sqlalchemy import text\n",
    "\n",
    "# Load categories from file\n",
    "path = ut.os.path.join(ut.repo_root, 'data_extraction', 'docs', 'sql', 'categories.csv')\n",
    "df = ut.read_generic_csv(path, \",\")\n",
    "\n",
    "print(df.head())\n",
    "print(f\"✅ Loaded {len(df)} categories from {path}\")"
   ]
  },
  {
   "cell_type": "code",
   "execution_count": 14,
   "id": "6bed6de3-9a0f-451e-a3f3-95e8c2891a60",
   "metadata": {},
   "outputs": [
    {
     "name": "stdout",
     "output_type": "stream",
     "text": [
      "🔍 Loading .env from: C:\\Users\\Matteo\\progetti\\real-estate\\.env\n",
      "🔧 Variables loaded: user=user, host=localhost, db=livingcost\n",
      "✅ regcat populated successfully\n",
      "✅ DB connection closed\n"
     ]
    }
   ],
   "source": [
    "\n",
    "# DB connection\n",
    "engine = get_db_engine()\n",
    "conn = open_connection(engine)\n",
    "\n",
    "# Insert into regcat\n",
    "for _, row in df.iterrows():\n",
    "    # Check if descat is already added\n",
    "    result = conn.execute(\n",
    "        text(\"SELECT idncat FROM regcat WHERE descat = :descat\"),\n",
    "        {\"descat\": row['descat']}\n",
    "    ).fetchone()\n",
    "\n",
    "    if result is None:\n",
    "        conn.execute(\n",
    "            text(\"INSERT INTO regcat (descat) VALUES (:descat)\"),\n",
    "            {\"descat\": row['descat']}\n",
    "        )\n",
    "\n",
    "print(\"✅ regcat populated successfully\")\n",
    "\n",
    "# Close Connection \n",
    "conn.commit()\n",
    "close_connection(conn)\n"
   ]
  },
  {
   "cell_type": "code",
   "execution_count": 15,
   "id": "05ea6321-1929-42b7-b4fd-c6b50624d091",
   "metadata": {},
   "outputs": [
    {
     "name": "stdout",
     "output_type": "stream",
     "text": [
      "🔍 Loading .env from: C:\\Users\\Matteo\\progetti\\real-estate\\.env\n",
      "🔧 Variables loaded: user=user, host=localhost, db=livingcost\n",
      "📊 Total rows in regcat: 6\n",
      "✅ DB connection closed\n"
     ]
    }
   ],
   "source": [
    "# DB connection\n",
    "engine = get_db_engine()\n",
    "conn = open_connection(engine)\n",
    "\n",
    "# Verification\n",
    "total_rows = get_table_count(conn, \"regcat\")\n",
    "print(f\"📊 Total rows in regcat: {total_rows}\")\n",
    "\n",
    "# Close Connection\n",
    "close_connection(conn)"
   ]
  },
  {
   "cell_type": "code",
   "execution_count": null,
   "id": "7e1d37a4-c934-495a-a427-513f5db1a858",
   "metadata": {},
   "outputs": [],
   "source": []
  }
 ],
 "metadata": {
  "kernelspec": {
   "display_name": "Python 3 (ipykernel)",
   "language": "python",
   "name": "python3"
  },
  "language_info": {
   "codemirror_mode": {
    "name": "ipython",
    "version": 3
   },
   "file_extension": ".py",
   "mimetype": "text/x-python",
   "name": "python",
   "nbconvert_exporter": "python",
   "pygments_lexer": "ipython3",
   "version": "3.13.5"
  }
 },
 "nbformat": 4,
 "nbformat_minor": 5
}
