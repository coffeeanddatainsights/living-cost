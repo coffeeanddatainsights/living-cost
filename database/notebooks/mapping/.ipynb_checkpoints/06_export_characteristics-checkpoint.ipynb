{
 "cells": [
  {
   "cell_type": "code",
   "execution_count": 2,
   "id": "5f09f5c6-76e7-4e5d-b688-301c2a5dee1f",
   "metadata": {},
   "outputs": [
    {
     "name": "stdout",
     "output_type": "stream",
     "text": [
      "✅ Exported 59 characteristics to C:\\Users\\Matteo\\progetti\\real-estate\\data_extraction\\docs\\sql\\characteristics_mapping.csv\n"
     ]
    }
   ],
   "source": [
    "# Import utility.py\n",
    "import scripts.utils as ut\n",
    "\n",
    "# Load columns from file with cleaned and standardized columns\n",
    "path = ut.os.path.join(ut.repo_root, 'data_extraction', 'raw_data', 'world', 'cost-of-living-columns-clean.csv')\n",
    "df = ut.read_generic_csv(path, \",\")\n",
    "\n",
    "# Extract only columns names (characteristics)\n",
    "columns = df.columns.tolist()\n",
    "df_columns = ut.pd.DataFrame({\"descar\": columns})\n",
    "\n",
    "# Save on new CSV for manual mapping (Select right columns for the analysis, characteristic relationship with category)\n",
    "mapping_path = ut.os.path.join(ut.repo_root, 'data_extraction', 'docs', 'sql', 'characteristics_mapping.csv')\n",
    "df_columns.to_csv(mapping_path, index=False)\n",
    "\n",
    "print(f\"✅ Exported {len(columns)} characteristics to {mapping_path}\")"
   ]
  }
 ],
 "metadata": {
  "kernelspec": {
   "display_name": "Python 3 (ipykernel)",
   "language": "python",
   "name": "python3"
  },
  "language_info": {
   "codemirror_mode": {
    "name": "ipython",
    "version": 3
   },
   "file_extension": ".py",
   "mimetype": "text/x-python",
   "name": "python",
   "nbconvert_exporter": "python",
   "pygments_lexer": "ipython3",
   "version": "3.13.5"
  }
 },
 "nbformat": 4,
 "nbformat_minor": 5
}
