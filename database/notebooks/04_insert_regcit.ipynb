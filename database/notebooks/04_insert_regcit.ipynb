{
 "cells": [
  {
   "cell_type": "code",
   "execution_count": 6,
   "id": "7b0f0e39-3d94-40b0-8953-01447465cd51",
   "metadata": {},
   "outputs": [],
   "source": [
    "# Import utility.py and db_utility\n",
    "import scripts.utils as ut\n",
    "from scripts.db_utils import get_db_engine, open_connection, close_connection, get_table_count\n",
    "from sqlalchemy import text\n",
    "\n",
    "# csv columns cleaned file read\n",
    "df = ut.read_world_colCleanDataset()"
   ]
  },
  {
   "cell_type": "code",
   "execution_count": 7,
   "id": "95f9d943-63db-40e5-846f-07d2244914a3",
   "metadata": {},
   "outputs": [],
   "source": [
    "# Columns for the first table => regcit\n",
    "df_cities = df[['city', 'country']].drop_duplicates().reset_index(drop=True)"
   ]
  },
  {
   "cell_type": "code",
   "execution_count": 8,
   "id": "de648a89-0430-4af7-a0af-3be099f23639",
   "metadata": {},
   "outputs": [
    {
     "name": "stdout",
     "output_type": "stream",
     "text": [
      "🔍 Loading .env from: C:\\Users\\Matteo\\progetti\\real-estate\\.env\n",
      "🔧 Variables loaded: user=user, host=localhost, db=livingcost\n",
      "✅ regcit populated successfully\n",
      "(1, 'Delhi', 'India')\n",
      "(2, 'Shanghai', 'China')\n",
      "(3, 'Jakarta', 'Indonesia')\n",
      "(4, 'Manila', 'Philippines')\n",
      "(5, 'Seoul', 'South Korea')\n",
      "(6, 'Bangkok', 'Thailand')\n",
      "(7, 'Kolkata', 'India')\n",
      "(8, 'Guangzhou', 'China')\n",
      "(9, 'Mumbai', 'India')\n",
      "(10, 'Beijing', 'China')\n",
      "✅ DB connection closed\n"
     ]
    }
   ],
   "source": [
    "# DB Connection \n",
    "engine = get_db_engine()\n",
    "conn = open_connection(engine)\n",
    "\n",
    "# Insert on regcit table\n",
    "with conn:\n",
    "    for _, row in df_cities.iterrows():\n",
    "        conn.execute(\n",
    "            text(\"\"\"\n",
    "                    INSERT INTO regcit (namecit, country) VALUES (:name, :country) ON DUPLICATE KEY UPDATE \n",
    "                    namecit = VALUES(namecit),\n",
    "                    country = VALUES(country);\"\"\"),\n",
    "            {\"name\": row['city'], \"country\": row['country']}\n",
    "        )\n",
    "\n",
    "    print(\"✅ regcit populated successfully\")\n",
    "\n",
    "    result = conn.execute(text(\"\"\"SELECT * FROM regcit LIMIT 10;\"\"\"))\n",
    "    \n",
    "    for row in result:\n",
    "        print(row)\n",
    "\n",
    "    # Close db connection \n",
    "    close_connection(conn)        "
   ]
  },
  {
   "cell_type": "code",
   "execution_count": 9,
   "id": "5f5fa5ee-89b9-4103-823e-876517c9b7e1",
   "metadata": {},
   "outputs": [
    {
     "name": "stdout",
     "output_type": "stream",
     "text": [
      "🔍 Loading .env from: C:\\Users\\Matteo\\progetti\\real-estate\\.env\n",
      "🔧 Variables loaded: user=user, host=localhost, db=livingcost\n",
      "✅ Total rows in regcit: 4874\n",
      "✅ DB connection closed\n"
     ]
    }
   ],
   "source": [
    "# Total num of rows inserted\n",
    "\n",
    "engine = get_db_engine()\n",
    "conn = open_connection(engine)\n",
    "\n",
    "total_rows = get_table_count(conn, \"regcit\")\n",
    "print(f\"✅ Total rows in regcit: {total_rows}\")\n",
    "\n",
    "close_connection(conn)"
   ]
  }
 ],
 "metadata": {
  "kernelspec": {
   "display_name": "Python 3 (ipykernel)",
   "language": "python",
   "name": "python3"
  },
  "language_info": {
   "codemirror_mode": {
    "name": "ipython",
    "version": 3
   },
   "file_extension": ".py",
   "mimetype": "text/x-python",
   "name": "python",
   "nbconvert_exporter": "python",
   "pygments_lexer": "ipython3",
   "version": "3.13.5"
  }
 },
 "nbformat": 4,
 "nbformat_minor": 5
}
