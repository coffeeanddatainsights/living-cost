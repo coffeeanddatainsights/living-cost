{
 "cells": [
  {
   "cell_type": "code",
   "execution_count": 1,
   "id": "480a0762-1a25-4424-bbad-22494bb7f3b7",
   "metadata": {},
   "outputs": [],
   "source": [
    "# Preliminary Operations\n",
    "import scripts.utils as ut\n",
    "\n",
    "df = ut.read_world_mappedDataset()"
   ]
  },
  {
   "cell_type": "code",
   "execution_count": 2,
   "id": "a14318f7-ec86-47e6-8423-44caac413716",
   "metadata": {},
   "outputs": [
    {
     "name": "stdout",
     "output_type": "stream",
     "text": [
      "id\n"
     ]
    }
   ],
   "source": [
    "# Columns standardization\n",
    "\n",
    "# 1. name first column as id \n",
    "df = df.rename(columns={df.columns[0]:'id'})\n",
    "print(df.columns[0])"
   ]
  },
  {
   "cell_type": "code",
   "execution_count": 3,
   "id": "406d5124-978e-4583-a2ed-118dff7d4eae",
   "metadata": {},
   "outputs": [
    {
     "name": "stdout",
     "output_type": "stream",
     "text": [
      "Index(['id', 'city', 'country', 'meal,_inexpensive_restaurant_(usd)',\n",
      "       'meal_for_2_people,_mid-range_restaurant,_three-course_(usd)',\n",
      "       'mcmeal_at_mcdonalds_(or_equivalent_combo_meal)_(usd)',\n",
      "       'domestic_beer_(0.5_liter_draught,_in_restaurants)_(usd)',\n",
      "       'imported_beer_(0.33_liter_bottle,_in_restaurants)_(usd)',\n",
      "       'cappuccino_(regular,_in_restaurants)_(usd)',\n",
      "       'coke/pepsi_(0.33_liter_bottle,_in_restaurants)_(usd)',\n",
      "       'water_(0.33_liter_bottle,_in_restaurants)_(usd)',\n",
      "       'milk_(regular),_(1_liter)_(usd)',\n",
      "       'loaf_of_fresh_white_bread_(500g)_(usd)', 'rice_(white),_(1kg)_(usd)',\n",
      "       'eggs_(regular)_(12)_(usd)', 'local_cheese_(1kg)_(usd)',\n",
      "       'chicken_fillets_(1kg)_(usd)',\n",
      "       'beef_round_(1kg)_(or_equivalent_back_leg_red_meat)_(usd)',\n",
      "       'apples_(1kg)_(usd)', 'banana_(1kg)_(usd)', 'oranges_(1kg)_(usd)',\n",
      "       'tomato_(1kg)_(usd)', 'potato_(1kg)_(usd)', 'onion_(1kg)_(usd)',\n",
      "       'lettuce_(1_head)_(usd)',\n",
      "       'water_(1.5_liter_bottle,_at_the_market)_(usd)',\n",
      "       'bottle_of_wine_(mid-range,_at_the_market)_(usd)',\n",
      "       'domestic_beer_(0.5_liter_bottle,_at_the_market)_(usd)',\n",
      "       'imported_beer_(0.33_liter_bottle,_at_the_market)_(usd)',\n",
      "       'cigarettes_20_pack_(marlboro)_(usd)',\n",
      "       'one-way_ticket_(local_transport)_(usd)',\n",
      "       'monthly_pass_(regular_price)_(usd)',\n",
      "       'taxi_start_(normal_tariff)_(usd)', 'taxi_1km_(normal_tariff)_(usd)',\n",
      "       'taxi_1hour_waiting_(normal_tariff)_(usd)', 'gasoline_(1_liter)_(usd)',\n",
      "       'volkswagen_golf_1.4_90_kw_trendline_(or_equivalent_new_car)_(usd)',\n",
      "       'toyota_corolla_sedan_1.6l_97kw_comfort_(or_equivalent_new_car)_(usd)',\n",
      "       'basic_(electricity,_heating,_cooling,_water,_garbage)_for_85m2_apartment_(usd)',\n",
      "       '1_min._of_prepaid_mobile_tariff_local_(no_discounts_or_plans)_(usd)',\n",
      "       'internet_(60_mbps_or_more,_unlimited_data,_cable/adsl)_(usd)',\n",
      "       'fitness_club,_monthly_fee_for_1_adult_(usd)',\n",
      "       'tennis_court_rent_(1_hour_on_weekend)_(usd)',\n",
      "       'cinema,_international_release,_1_seat_(usd)',\n",
      "       'preschool_(or_kindergarten),_full_day,_private,_monthly_for_1_child_(usd)',\n",
      "       'international_primary_school,_yearly_for_1_child_(usd)',\n",
      "       '1_pair_of_jeans_(levis_501_or_similar)_(usd)',\n",
      "       '1_summer_dress_in_a_chain_store_(zara,_h&m,_…)_(usd)',\n",
      "       '1_pair_of_nike_running_shoes_(mid-range)_(usd)',\n",
      "       '1_pair_of_men_leather_business_shoes_(usd)',\n",
      "       'apartment_(1_bedroom)_in_city_centre_(usd)',\n",
      "       'apartment_(1_bedroom)_outside_of_centre_(usd)',\n",
      "       'apartment_(3_bedrooms)_in_city_centre_(usd)',\n",
      "       'apartment_(3_bedrooms)_outside_of_centre_(usd)',\n",
      "       'price_per_square_meter_to_buy_apartment_in_city_centre_(usd)',\n",
      "       'price_per_square_meter_to_buy_apartment_outside_of_centre_(usd)',\n",
      "       'average_monthly_net_salary_(after_tax)_(usd)',\n",
      "       'mortgage_interest_rate_in_percentages_(%),_yearly,_for_20_years_fixed-rate',\n",
      "       'data_quality'],\n",
      "      dtype='object')\n"
     ]
    }
   ],
   "source": [
    "# 2. standardize columns\n",
    "\n",
    "# lower characters columns \n",
    "df.columns = [col.lower() for col in df.columns]\n",
    "\n",
    "# substitute space with \"_\"\n",
    "df.columns = [col.lower().replace(' ', '_') for col in df.columns]\n",
    "\n",
    "print(df.columns)"
   ]
  },
  {
   "cell_type": "code",
   "execution_count": 4,
   "id": "221ca4a7-c43f-4a27-b4b1-7d5b478c2a52",
   "metadata": {},
   "outputs": [],
   "source": [
    "# Export\n",
    "df.to_csv('../raw_data/world/cost-of-living-columns-clean.csv', index=False)"
   ]
  },
  {
   "cell_type": "code",
   "execution_count": null,
   "id": "34ab80a3-d22e-4967-98c5-0e83c8b972e5",
   "metadata": {},
   "outputs": [],
   "source": []
  }
 ],
 "metadata": {
  "kernelspec": {
   "display_name": "Python 3 (ipykernel)",
   "language": "python",
   "name": "python3"
  },
  "language_info": {
   "codemirror_mode": {
    "name": "ipython",
    "version": 3
   },
   "file_extension": ".py",
   "mimetype": "text/x-python",
   "name": "python",
   "nbconvert_exporter": "python",
   "pygments_lexer": "ipython3",
   "version": "3.13.5"
  }
 },
 "nbformat": 4,
 "nbformat_minor": 5
}
