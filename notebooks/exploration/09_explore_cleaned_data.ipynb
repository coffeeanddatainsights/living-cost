{
 "cells": [
  {
   "cell_type": "code",
   "execution_count": 1,
   "id": "8a231ae4-e35e-4dfc-9a41-b72ea15e78eb",
   "metadata": {},
   "outputs": [
    {
     "name": "stdout",
     "output_type": "stream",
     "text": [
      "🔍 Loading .env\n",
      "🔧 Variables loaded: user=user, host=localhost, db=livingcost\n"
     ]
    }
   ],
   "source": [
    "# ---- Explore cleaned data from vw_valcar_cleaned view (view used to clean all of data values)\n",
    "# Import \n",
    "import scripts.utils as ut\n",
    "from scripts.db_utils import get_db_engine, open_connection, close_connection\n",
    "from sqlalchemy import text\n",
    "import matplotlib.pyplot as plt\n",
    "\n",
    "# db connection\n",
    "engine = get_db_engine()\n",
    "conn = open_connection(engine)"
   ]
  },
  {
   "cell_type": "code",
   "execution_count": 3,
   "id": "20f17701-aa72-4e4f-acd3-3630bea81324",
   "metadata": {},
   "outputs": [
    {
     "name": "stdout",
     "output_type": "stream",
     "text": [
      "✅ Loaded cleaned view with 39893 rows and 5 columns\n"
     ]
    },
    {
     "data": {
      "text/html": [
       "<div>\n",
       "<style scoped>\n",
       "    .dataframe tbody tr th:only-of-type {\n",
       "        vertical-align: middle;\n",
       "    }\n",
       "\n",
       "    .dataframe tbody tr th {\n",
       "        vertical-align: top;\n",
       "    }\n",
       "\n",
       "    .dataframe thead th {\n",
       "        text-align: right;\n",
       "    }\n",
       "</style>\n",
       "<table border=\"1\" class=\"dataframe\">\n",
       "  <thead>\n",
       "    <tr style=\"text-align: right;\">\n",
       "      <th></th>\n",
       "      <th>CityName</th>\n",
       "      <th>Country</th>\n",
       "      <th>Paramethers</th>\n",
       "      <th>Category</th>\n",
       "      <th>MeanPrice</th>\n",
       "    </tr>\n",
       "  </thead>\n",
       "  <tbody>\n",
       "    <tr>\n",
       "      <th>0</th>\n",
       "      <td>Delhi</td>\n",
       "      <td>India</td>\n",
       "      <td>apartment (1 bedroom) in city centre</td>\n",
       "      <td>Apartments / Real Estate</td>\n",
       "      <td>223.87</td>\n",
       "    </tr>\n",
       "    <tr>\n",
       "      <th>1</th>\n",
       "      <td>Shanghai</td>\n",
       "      <td>China</td>\n",
       "      <td>apartment (1 bedroom) in city centre</td>\n",
       "      <td>Apartments / Real Estate</td>\n",
       "      <td>1080.07</td>\n",
       "    </tr>\n",
       "    <tr>\n",
       "      <th>2</th>\n",
       "      <td>Jakarta</td>\n",
       "      <td>Indonesia</td>\n",
       "      <td>apartment (1 bedroom) in city centre</td>\n",
       "      <td>Apartments / Real Estate</td>\n",
       "      <td>482.85</td>\n",
       "    </tr>\n",
       "    <tr>\n",
       "      <th>3</th>\n",
       "      <td>Manila</td>\n",
       "      <td>Philippines</td>\n",
       "      <td>apartment (1 bedroom) in city centre</td>\n",
       "      <td>Apartments / Real Estate</td>\n",
       "      <td>559.52</td>\n",
       "    </tr>\n",
       "    <tr>\n",
       "      <th>4</th>\n",
       "      <td>Seoul</td>\n",
       "      <td>South korea</td>\n",
       "      <td>apartment (1 bedroom) in city centre</td>\n",
       "      <td>Apartments / Real Estate</td>\n",
       "      <td>809.83</td>\n",
       "    </tr>\n",
       "  </tbody>\n",
       "</table>\n",
       "</div>"
      ],
      "text/plain": [
       "   CityName      Country                            Paramethers  \\\n",
       "0     Delhi        India  apartment (1 bedroom) in city centre    \n",
       "1  Shanghai        China  apartment (1 bedroom) in city centre    \n",
       "2   Jakarta    Indonesia  apartment (1 bedroom) in city centre    \n",
       "3    Manila  Philippines  apartment (1 bedroom) in city centre    \n",
       "4     Seoul  South korea  apartment (1 bedroom) in city centre    \n",
       "\n",
       "                   Category  MeanPrice  \n",
       "0  Apartments / Real Estate     223.87  \n",
       "1  Apartments / Real Estate    1080.07  \n",
       "2  Apartments / Real Estate     482.85  \n",
       "3  Apartments / Real Estate     559.52  \n",
       "4  Apartments / Real Estate     809.83  "
      ]
     },
     "execution_count": 3,
     "metadata": {},
     "output_type": "execute_result"
    }
   ],
   "source": [
    "# Summary Dataframe of cleaned data \n",
    "query = \"SELECT * FROM vw_valcar_cleaned;\"\n",
    "df = ut.pd.read_sql(query, conn)\n",
    "print(f\"✅ Loaded cleaned view with {len(df)} rows and {df.shape[1]} columns\")\n",
    "df.head()"
   ]
  },
  {
   "cell_type": "code",
   "execution_count": 4,
   "id": "bd82eb45-efb9-41c5-b0bc-f526e477edb0",
   "metadata": {},
   "outputs": [
    {
     "name": "stdout",
     "output_type": "stream",
     "text": [
      "\n",
      "🔍 Missing values per column:\n",
      "CityName       0\n",
      "Country        0\n",
      "Paramethers    0\n",
      "Category       0\n",
      "MeanPrice      0\n",
      "dtype: int64\n",
      "\n",
      "🔁 Duplicates: 0\n"
     ]
    }
   ],
   "source": [
    "# Overview of right cleaning \n",
    "print(\"\\n🔍 Missing values per column:\")\n",
    "print(df.isnull().sum())\n",
    "\n",
    "print(\"\\n🔁 Duplicates:\", df.duplicated().sum())"
   ]
  },
  {
   "cell_type": "code",
   "execution_count": 5,
   "id": "89772f8e-1ff5-4c7b-8d62-5c5ab10474d8",
   "metadata": {},
   "outputs": [
    {
     "data": {
      "image/png": "[encoded data removed]",
      "text/plain": [
       "<Figure size 640x480 with 1 Axes>"
      ]
     },
     "metadata": {},
     "output_type": "display_data"
    }
   ],
   "source": [
    "# Record per Category Overview\n",
    "cat_counts = df['Category'].value_counts()\n",
    "cat_counts.plot(kind='bar', title='Records per Category')\n",
    "\n",
    "# Export png graph\n",
    "path = ut.os.path.join(ut.repo_root, 'docs', 'img', 'DistributionByCategory.png')\n",
    "plt.savefig(path, dpi=300, bbox_inches='tight')"
   ]
  },
  {
   "cell_type": "code",
   "execution_count": 6,
   "id": "81abf73b-5273-41c5-87d6-b9a886d12746",
   "metadata": {},
   "outputs": [
    {
     "name": "stdout",
     "output_type": "stream",
     "text": [
      "✅ DB connection closed\n"
     ]
    }
   ],
   "source": [
    "# close connection\n",
    "close_connection(conn)"
   ]
  }
 ],
 "metadata": {
  "kernelspec": {
   "display_name": "Python 3 (ipykernel)",
   "language": "python",
   "name": "python3"
  },
  "language_info": {
   "codemirror_mode": {
    "name": "ipython",
    "version": 3
   },
   "file_extension": ".py",
   "mimetype": "text/x-python",
   "name": "python",
   "nbconvert_exporter": "python",
   "pygments_lexer": "ipython3",
   "version": "3.13.5"
  }
 },
 "nbformat": 4,
 "nbformat_minor": 5
}
