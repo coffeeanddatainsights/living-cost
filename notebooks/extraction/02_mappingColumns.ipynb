{
 "cells": [
  {
   "cell_type": "code",
   "execution_count": 1,
   "id": "5527e620-8329-42c8-be7d-b5ffdb58be6b",
   "metadata": {},
   "outputs": [],
   "source": [
    "# Preliminary Operations\n",
    "import scripts.utils as ut\n",
    "\n",
    "df = ut.read_world_dataset()"
   ]
  },
  {
   "cell_type": "code",
   "execution_count": 2,
   "id": "4b037b6c-2ece-4437-9398-64f563a75cc9",
   "metadata": {},
   "outputs": [],
   "source": [
    "# Rename dataset's columns\n",
    "\n",
    "# Mapping file reads\n",
    "mapping_path = ut.os.path.join(ut.repo_root, 'data', 'processed', 'mapping-columns.csv')\n",
    "mapping = ut.pd.read_csv(mapping_path, sep=';')\n",
    "\n",
    "# dict from mapping file\n",
    "col_dict = dict(zip(mapping['Column'], mapping['Description']))\n",
    "\n",
    "# Rename columns\n",
    "df = df.rename(columns=col_dict)"
   ]
  },
  {
   "cell_type": "code",
   "execution_count": 3,
   "id": "db6c5777-dd94-4870-9184-a26cb65b4a0d",
   "metadata": {},
   "outputs": [
    {
     "name": "stdout",
     "output_type": "stream",
     "text": [
      "Index(['Unnamed: 0', 'city', 'country', 'Meal, Inexpensive Restaurant (USD)',\n",
      "       'Meal for 2 People, Mid-range Restaurant, Three-course (USD)',\n",
      "       'McMeal at McDonalds (or Equivalent Combo Meal) (USD)',\n",
      "       'Domestic Beer (0.5 liter draught, in restaurants) (USD)',\n",
      "       'Imported Beer (0.33 liter bottle, in restaurants) (USD)',\n",
      "       'Cappuccino (regular, in restaurants) (USD)',\n",
      "       'Coke/Pepsi (0.33 liter bottle, in restaurants) (USD)',\n",
      "       'Water (0.33 liter bottle, in restaurants) (USD)',\n",
      "       'Milk (regular), (1 liter) (USD)',\n",
      "       'Loaf of Fresh White Bread (500g) (USD)', 'Rice (white), (1kg) (USD)',\n",
      "       'Eggs (regular) (12) (USD)', 'Local Cheese (1kg) (USD)',\n",
      "       'Chicken Fillets (1kg) (USD)',\n",
      "       'Beef Round (1kg) (or Equivalent Back Leg Red Meat) (USD)',\n",
      "       'Apples (1kg) (USD)', 'Banana (1kg) (USD)', 'Oranges (1kg) (USD)',\n",
      "       'Tomato (1kg) (USD)', 'Potato (1kg) (USD)', 'Onion (1kg) (USD)',\n",
      "       'Lettuce (1 head) (USD)',\n",
      "       'Water (1.5 liter bottle, at the market) (USD)',\n",
      "       'Bottle of Wine (Mid-Range, at the market) (USD)',\n",
      "       'Domestic Beer (0.5 liter bottle, at the market) (USD)',\n",
      "       'Imported Beer (0.33 liter bottle, at the market) (USD)',\n",
      "       'Cigarettes 20 Pack (Marlboro) (USD)',\n",
      "       'One-way Ticket (Local Transport) (USD)',\n",
      "       'Monthly Pass (Regular Price) (USD)',\n",
      "       'Taxi Start (Normal Tariff) (USD)', 'Taxi 1km (Normal Tariff) (USD)',\n",
      "       'Taxi 1hour Waiting (Normal Tariff) (USD)', 'Gasoline (1 liter) (USD)',\n",
      "       'Volkswagen Golf 1.4 90 KW Trendline (Or Equivalent New Car) (USD)',\n",
      "       'Toyota Corolla Sedan 1.6l 97kW Comfort (Or Equivalent New Car) (USD)',\n",
      "       'Basic (Electricity, Heating, Cooling, Water, Garbage) for 85m2 Apartment (USD)',\n",
      "       '1 min. of Prepaid Mobile Tariff Local (No Discounts or Plans) (USD)',\n",
      "       'Internet (60 Mbps or More, Unlimited Data, Cable/ADSL) (USD)',\n",
      "       'Fitness Club, Monthly Fee for 1 Adult (USD)',\n",
      "       'Tennis Court Rent (1 Hour on Weekend) (USD)',\n",
      "       'Cinema, International Release, 1 Seat (USD)',\n",
      "       'Preschool (or Kindergarten), Full Day, Private, Monthly for 1 Child (USD)',\n",
      "       'International Primary School, Yearly for 1 Child (USD)',\n",
      "       '1 Pair of Jeans (Levis 501 Or Similar) (USD)',\n",
      "       '1 Summer Dress in a Chain Store (Zara, H&M, …) (USD)',\n",
      "       '1 Pair of Nike Running Shoes (Mid-Range) (USD)',\n",
      "       '1 Pair of Men Leather Business Shoes (USD)',\n",
      "       'Apartment (1 bedroom) in City Centre (USD)',\n",
      "       'Apartment (1 bedroom) Outside of Centre (USD)',\n",
      "       'Apartment (3 bedrooms) in City Centre (USD)',\n",
      "       'Apartment (3 bedrooms) Outside of Centre (USD)',\n",
      "       'Price per Square Meter to Buy Apartment in City Centre (USD)',\n",
      "       'Price per Square Meter to Buy Apartment Outside of Centre (USD)',\n",
      "       'Average Monthly Net Salary (After Tax) (USD)',\n",
      "       'Mortgage Interest Rate in Percentages (%), Yearly, for 20 Years Fixed-Rate',\n",
      "       'data_quality'],\n",
      "      dtype='object')\n"
     ]
    }
   ],
   "source": [
    "# Result\n",
    "print(df.columns)"
   ]
  },
  {
   "cell_type": "code",
   "execution_count": 4,
   "id": "870d6da5-83f4-4f8e-8388-9f72f62875b8",
   "metadata": {},
   "outputs": [],
   "source": [
    "# Export\n",
    "output_path = ut.os.path.join(ut.repo_root, 'data', 'processed', 'cost-of-living-mapped.csv')\n",
    "df.to_csv(output_path, index=False)"
   ]
  }
 ],
 "metadata": {
  "kernelspec": {
   "display_name": "Python 3 (ipykernel)",
   "language": "python",
   "name": "python3"
  },
  "language_info": {
   "codemirror_mode": {
    "name": "ipython",
    "version": 3
   },
   "file_extension": ".py",
   "mimetype": "text/x-python",
   "name": "python",
   "nbconvert_exporter": "python",
   "pygments_lexer": "ipython3",
   "version": "3.13.5"
  }
 },
 "nbformat": 4,
 "nbformat_minor": 5
}
