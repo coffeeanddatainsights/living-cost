{
 "cells": [
  {
   "cell_type": "code",
   "execution_count": 1,
   "id": "5bc0b4a6-c315-4686-96a6-480b0e0da49b",
   "metadata": {},
   "outputs": [
    {
     "name": "stdout",
     "output_type": "stream",
     "text": [
      "                                              descar  category\n",
      "0         apartment_(1_bedroom)_in_city_centre_(usd)         1\n",
      "1      apartment_(1_bedroom)_outside_of_centre_(usd)         1\n",
      "2        apartment_(3_bedrooms)_in_city_centre_(usd)         1\n",
      "3     apartment_(3_bedrooms)_outside_of_centre_(usd)         1\n",
      "4  price_per_square_meter_to_buy_apartment_in_cit...         1\n",
      "✅ Loaded 44 characteristics\n"
     ]
    }
   ],
   "source": [
    "# Import utility.py and db_utility\n",
    "import scripts.utils as ut\n",
    "from scripts.db_utils import get_db_engine, open_connection, close_connection, get_table_count\n",
    "from sqlalchemy import text\n",
    "\n",
    "# Load mapped characteristics from file\n",
    "path = ut.os.path.join(ut.repo_root, 'data', 'processed', 'sql', 'characteristics_mapped.csv')\n",
    "df = ut.read_generic_csv(path, ',')\n",
    "\n",
    "print(df.head())\n",
    "print(f\"✅ Loaded {len(df)} characteristics\")"
   ]
  },
  {
   "cell_type": "code",
   "execution_count": 2,
   "id": "2fa07892-fb12-4180-b615-41ce3d9b02f9",
   "metadata": {},
   "outputs": [
    {
     "name": "stdout",
     "output_type": "stream",
     "text": [
      "🔍 Loading .env\n",
      "🔧 Variables loaded: user=user, host=localhost, db=livingcost\n",
      "ℹ️ Starting manual ID insert from idncar = 45\n",
      "✅ regcar population completed: 0 inserted, 44 skipped.\n",
      "📊 Total rows in regcar: 44\n",
      "✅ DB connection closed\n"
     ]
    }
   ],
   "source": [
    "# DB connection\n",
    "engine = get_db_engine()\n",
    "conn = open_connection(engine)\n",
    "\n",
    "inserted, skipped = 0, 0\n",
    "\n",
    "# -- Insert into regcar\n",
    "# Get current max idncar increment manually\n",
    "result = conn.execute(text(\"SELECT MAX(idcara) FROM regcar;\"))\n",
    "start_id = (result.scalar() or 0) + 1\n",
    "\n",
    "print(f\"ℹ️ Starting manual ID insert from idncar = {start_id}\")\n",
    "\n",
    "for i, row in df.iterrows():\n",
    "    # Dont want the header\n",
    "    if row['descar'].strip().lower() == 'descar':\n",
    "        continue\n",
    "    \n",
    "    descar = row['descar'].strip().lower()\n",
    "    idncat = int(row['category'])\n",
    "    idcara = start_id + i\n",
    "\n",
    "    exists = conn.execute(\n",
    "        text(\"SELECT 1 FROM regcar WHERE LOWER(TRIM(descar)) = :descar\"),\n",
    "        {\"descar\": descar}\n",
    "    ).fetchone()\n",
    "\n",
    "    if not exists:\n",
    "        conn.execute(\n",
    "            text(\"\"\"\n",
    "                INSERT INTO regcar (idcara, descar, idncat)\n",
    "                VALUES (:idcara, :descar, :idncat)\n",
    "            \"\"\"),\n",
    "            {\n",
    "                \"idcara\": idcara,\n",
    "                \"descar\": row[\"descar\"],\n",
    "                \"idncat\": idncat,\n",
    "            },\n",
    "        )\n",
    "        inserted += 1\n",
    "    else:\n",
    "        skipped += 1\n",
    "\n",
    "\n",
    "print(f\"✅ regcar population completed: {inserted} inserted, {skipped} skipped.\")\n",
    "print(f\"📊 Total rows in regcar: {get_table_count(conn, 'regcar')}\")\n",
    "\n",
    "# Close connection\n",
    "conn.commit()\n",
    "close_connection(conn)"
   ]
  },
  {
   "cell_type": "code",
   "execution_count": 3,
   "id": "9d64dd5e-4748-4620-a276-cb44a5919596",
   "metadata": {},
   "outputs": [
    {
     "name": "stdout",
     "output_type": "stream",
     "text": [
      "🔍 Loading .env\n",
      "🔧 Variables loaded: user=user, host=localhost, db=livingcost\n",
      "\n",
      "🔎 Sample of inserted data:\n",
      "(1, 'apartment_(1_bedroom)_in_city_centre_(usd)', 1)\n",
      "(2, 'apartment_(1_bedroom)_outside_of_centre_(usd)', 1)\n",
      "(3, 'apartment_(3_bedrooms)_in_city_centre_(usd)', 1)\n",
      "(4, 'apartment_(3_bedrooms)_outside_of_centre_(usd)', 1)\n",
      "(5, 'price_per_square_meter_to_buy_apartment_in_city_centre_(usd)', 1)\n",
      "(6, 'price_per_square_meter_to_buy_apartment_outside_of_centre_(usd)', 1)\n",
      "(7, 'basic_(electricity,_heating,_cooling,_water,_garbage)_for_85m2_apartment_(usd)', 2)\n",
      "(8, 'internet_(60_mbps_or_more,_unlimited_data,_cable/adsl)_(usd)', 2)\n",
      "(9, 'one-way_ticket_(local_transport)_(usd)', 3)\n",
      "(10, 'monthly_pass_(regular_price)_(usd)', 3)\n",
      "✅ DB connection closed\n"
     ]
    }
   ],
   "source": [
    "# -- VERIFICATION\n",
    "# DB connection\n",
    "engine = get_db_engine()\n",
    "conn = open_connection(engine)\n",
    "\n",
    "# Verification\n",
    "result = conn.execute(text(\"SELECT * FROM regcar LIMIT 10;\"))\n",
    "print(\"\\n🔎 Sample of inserted data:\")\n",
    "\n",
    "for row in result:\n",
    "    print(row)\n",
    "\n",
    "# Close Connection\n",
    "close_connection(conn)"
   ]
  }
 ],
 "metadata": {
  "kernelspec": {
   "display_name": "Python 3 (ipykernel)",
   "language": "python",
   "name": "python3"
  },
  "language_info": {
   "codemirror_mode": {
    "name": "ipython",
    "version": 3
   },
   "file_extension": ".py",
   "mimetype": "text/x-python",
   "name": "python",
   "nbconvert_exporter": "python",
   "pygments_lexer": "ipython3",
   "version": "3.13.5"
  }
 },
 "nbformat": 4,
 "nbformat_minor": 5
}
